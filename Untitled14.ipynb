{
 "cells": [
  {
   "cell_type": "markdown",
   "id": "cef31001",
   "metadata": {},
   "source": [
    "# Question 23"
   ]
  },
  {
   "cell_type": "markdown",
   "id": "377a5400",
   "metadata": {},
   "source": [
    "def tough(indent, num):\n",
    "    def f(indent, num):\n",
    "        if num > 0:\n",
    "            f(indent, num // 2)\n",
    "            print(\" \" * indent + \"*\" * num)\n",
    "            f(indent + 1, num // 2)\n",
    "    \n",
    "    f(indent, num)\n",
    "tough(0, 0)"
   ]
  },
  {
   "cell_type": "code",
   "execution_count": null,
   "id": "09e1e266",
   "metadata": {},
   "outputs": [],
   "source": [
    "def tough(indent, num):\n",
    "    def f(indent, num):\n",
    "        if num > 0:\n",
    "            f(indent, num // 2)\n",
    "            print(\" \" * indent + \"*\" * num)\n",
    "            f(indent + 1, num // 2)\n",
    "    \n",
    "    f(indent, num)\n",
    "\n",
    "tough(0, 1)"
   ]
  },
  {
   "cell_type": "code",
   "execution_count": 9,
   "id": "e8d7e09d",
   "metadata": {},
   "outputs": [
    {
     "name": "stdout",
     "output_type": "stream",
     "text": [
      "*\n",
      "**\n",
      " *\n"
     ]
    }
   ],
   "source": [
    "def tough(indent, num):\n",
    "    def f(indent, num):\n",
    "        if num > 0:\n",
    "            f(indent, num // 2) \n",
    "            print(\" \" * indent + \"*\" * num)\n",
    "            f(indent + 1, num // 2)\n",
    "    \n",
    "    f(indent, num)\n",
    "\n",
    "tough(0, 2)"
   ]
  },
  {
   "cell_type": "code",
   "execution_count": 10,
   "id": "0986595e",
   "metadata": {},
   "outputs": [
    {
     "name": "stdout",
     "output_type": "stream",
     "text": [
      "*\n",
      "**\n",
      " *\n",
      "****\n",
      " *\n",
      " **\n",
      "  *\n"
     ]
    }
   ],
   "source": [
    "def tough(indent, num):\n",
    "    def f(indent, num):\n",
    "        if num > 0:\n",
    "            f(indent, num // 2)\n",
    "            print(\" \" * indent + \"*\" * num)\n",
    "            f(indent + 1, num // 2)\n",
    "    \n",
    "    f(indent, num)\n",
    "\n",
    "tough(0, 4)"
   ]
  },
  {
   "cell_type": "markdown",
   "id": "8991f500",
   "metadata": {},
   "source": [
    "# Answer 22"
   ]
  },
  {
   "cell_type": "code",
   "execution_count": 12,
   "id": "0830bc92",
   "metadata": {},
   "outputs": [
    {
     "name": "stdout",
     "output_type": "stream",
     "text": [
      "Requirement already satisfied: ipython-sql in c:\\data science\\anaconda\\lib\\site-packages (0.5.0)\n",
      "Requirement already satisfied: prettytable in c:\\data science\\anaconda\\lib\\site-packages (from ipython-sql) (3.9.0)\n",
      "Requirement already satisfied: ipython in c:\\data science\\anaconda\\lib\\site-packages (from ipython-sql) (8.12.0)\n",
      "Requirement already satisfied: sqlalchemy>=2.0 in c:\\data science\\anaconda\\lib\\site-packages (from ipython-sql) (2.0.22)\n",
      "Requirement already satisfied: sqlparse in c:\\data science\\anaconda\\lib\\site-packages (from ipython-sql) (0.4.4)\n",
      "Requirement already satisfied: six in c:\\data science\\anaconda\\lib\\site-packages (from ipython-sql) (1.16.0)\n",
      "Requirement already satisfied: ipython-genutils in c:\\data science\\anaconda\\lib\\site-packages (from ipython-sql) (0.2.0)\n",
      "Requirement already satisfied: typing-extensions>=4.2.0 in c:\\data science\\anaconda\\lib\\site-packages (from sqlalchemy>=2.0->ipython-sql) (4.7.1)\n",
      "Requirement already satisfied: greenlet!=0.4.17 in c:\\data science\\anaconda\\lib\\site-packages (from sqlalchemy>=2.0->ipython-sql) (2.0.1)\n",
      "Requirement already satisfied: backcall in c:\\data science\\anaconda\\lib\\site-packages (from ipython->ipython-sql) (0.2.0)\n",
      "Requirement already satisfied: decorator in c:\\data science\\anaconda\\lib\\site-packages (from ipython->ipython-sql) (5.1.1)\n",
      "Requirement already satisfied: jedi>=0.16 in c:\\data science\\anaconda\\lib\\site-packages (from ipython->ipython-sql) (0.18.1)\n",
      "Requirement already satisfied: matplotlib-inline in c:\\data science\\anaconda\\lib\\site-packages (from ipython->ipython-sql) (0.1.6)\n",
      "Requirement already satisfied: pickleshare in c:\\data science\\anaconda\\lib\\site-packages (from ipython->ipython-sql) (0.7.5)\n",
      "Requirement already satisfied: prompt-toolkit!=3.0.37,<3.1.0,>=3.0.30 in c:\\data science\\anaconda\\lib\\site-packages (from ipython->ipython-sql) (3.0.36)\n",
      "Requirement already satisfied: pygments>=2.4.0 in c:\\data science\\anaconda\\lib\\site-packages (from ipython->ipython-sql) (2.15.1)\n",
      "Requirement already satisfied: stack-data in c:\\data science\\anaconda\\lib\\site-packages (from ipython->ipython-sql) (0.2.0)\n",
      "Requirement already satisfied: traitlets>=5 in c:\\data science\\anaconda\\lib\\site-packages (from ipython->ipython-sql) (5.7.1)\n",
      "Requirement already satisfied: colorama in c:\\data science\\anaconda\\lib\\site-packages (from ipython->ipython-sql) (0.4.6)\n",
      "Requirement already satisfied: wcwidth in c:\\data science\\anaconda\\lib\\site-packages (from prettytable->ipython-sql) (0.2.5)\n",
      "Requirement already satisfied: parso<0.9.0,>=0.8.0 in c:\\data science\\anaconda\\lib\\site-packages (from jedi>=0.16->ipython->ipython-sql) (0.8.3)\n",
      "Requirement already satisfied: executing in c:\\data science\\anaconda\\lib\\site-packages (from stack-data->ipython->ipython-sql) (0.8.3)\n",
      "Requirement already satisfied: asttokens in c:\\data science\\anaconda\\lib\\site-packages (from stack-data->ipython->ipython-sql) (2.0.5)\n",
      "Requirement already satisfied: pure-eval in c:\\data science\\anaconda\\lib\\site-packages (from stack-data->ipython->ipython-sql) (0.2.2)\n"
     ]
    }
   ],
   "source": [
    "!pip install ipython-sql"
   ]
  },
  {
   "cell_type": "code",
   "execution_count": null,
   "id": "2da07933",
   "metadata": {},
   "outputs": [],
   "source": [
    "import pandas as pd\n",
    "import sqlite3"
   ]
  },
  {
   "cell_type": "code",
   "execution_count": 14,
   "id": "1b7264e5",
   "metadata": {},
   "outputs": [
    {
     "name": "stdout",
     "output_type": "stream",
     "text": [
      "The sql extension is already loaded. To reload it, use:\n",
      "  %reload_ext sql\n"
     ]
    }
   ],
   "source": [
    "%load_ext sql"
   ]
  },
  {
   "cell_type": "code",
   "execution_count": 19,
   "id": "790c641a",
   "metadata": {},
   "outputs": [],
   "source": [
    "%sql sqlite:///weather.db"
   ]
  },
  {
   "cell_type": "code",
   "execution_count": 20,
   "id": "0c87ad04",
   "metadata": {
    "scrolled": true
   },
   "outputs": [
    {
     "name": "stdout",
     "output_type": "stream",
     "text": [
      " * sqlite:///weather.db\n",
      "(sqlite3.OperationalError) table Weather already exists\n",
      "[SQL: CREATE TABLE Weather (\n",
      "    id INTEGER PRIMARY KEY,\n",
      "    recordDate DATE,\n",
      "    temperature INTEGER\n",
      ");]\n",
      "(Background on this error at: https://sqlalche.me/e/20/e3q8)\n"
     ]
    }
   ],
   "source": [
    "%%sql\n",
    "CREATE TABLE Weather (\n",
    "    id INTEGER PRIMARY KEY,\n",
    "    recordDate DATE,\n",
    "    temperature INTEGER\n",
    ");"
   ]
  },
  {
   "cell_type": "code",
   "execution_count": 21,
   "id": "2bcef2b7",
   "metadata": {},
   "outputs": [
    {
     "name": "stdout",
     "output_type": "stream",
     "text": [
      " * sqlite:///weather.db\n",
      "4 rows affected.\n",
      "(sqlite3.OperationalError) near \"result\": syntax error\n",
      "[SQL: result = %sql SELECT w.id FROM Weather w JOIN Weather w_prev ON w.recordDate = DATE(w_prev.recordDate, '-1 day') WHERE w.temperature > w_prev.temperature\n",
      "\n",
      "result]\n",
      "(Background on this error at: https://sqlalche.me/e/20/e3q8)\n"
     ]
    }
   ],
   "source": [
    "%%sql\n",
    "INSERT INTO Weather (id, recordDate, temperature) VALUES\n",
    "    (1, '2015-01-01', 10),\n",
    "    (2, '2015-01-02', 25),\n",
    "    (3, '2015-01-03', 20),\n",
    "    (4, '2015-01-04', 30);\n",
    "\n",
    "result = %sql SELECT w.id FROM Weather w JOIN Weather w_prev ON w.recordDate = DATE(w_prev.recordDate, '-1 day') WHERE w.temperature > w_prev.temperature\n",
    "\n",
    "result"
   ]
  },
  {
   "cell_type": "markdown",
   "id": "c553178a",
   "metadata": {},
   "source": [
    "# Answer 21"
   ]
  },
  {
   "cell_type": "code",
   "execution_count": 26,
   "id": "68ba1755",
   "metadata": {},
   "outputs": [],
   "source": [
    "class Point:\n",
    "    def __init__(self, x=0, y=0):\n",
    "        self.x = x\n",
    "        self.y = y\n",
    "\n",
    "class Segment:\n",
    "    def __init__(self, point1, point2):\n",
    "        self.point1 = point1\n",
    "        self.point2 = point2\n",
    "\n",
    "    def length(self):\n",
    "        dx = self.point1.x - self.point2.x\n",
    "        dy = self.point1.y - self.point2.y\n",
    "        return ((dx ** 2) + (dy ** 2)) ** 0.5\n",
    "\n",
    "    def slope(self):\n",
    "        dx = self.point1.x - self.point2.x\n",
    "        dy = self.point1.y - self.point2.y\n",
    "        if dx == 0:\n",
    "            return None\n",
    "        return dy / dx"
   ]
  },
  {
   "cell_type": "code",
   "execution_count": 27,
   "id": "4d7594e2",
   "metadata": {},
   "outputs": [
    {
     "name": "stdout",
     "output_type": "stream",
     "text": [
      "5.0\n",
      "1.3333333333333333\n"
     ]
    }
   ],
   "source": [
    "p1 = Point(3, 4)\n",
    "p2 = Point()\n",
    "s = Segment(p1, p2)\n",
    "print(s.length())\n",
    "print(s.slope())"
   ]
  }
 ],
 "metadata": {
  "kernelspec": {
   "display_name": "Python 3 (ipykernel)",
   "language": "python",
   "name": "python3"
  },
  "language_info": {
   "codemirror_mode": {
    "name": "ipython",
    "version": 3
   },
   "file_extension": ".py",
   "mimetype": "text/x-python",
   "name": "python",
   "nbconvert_exporter": "python",
   "pygments_lexer": "ipython3",
   "version": "3.11.4"
  }
 },
 "nbformat": 4,
 "nbformat_minor": 5
}
